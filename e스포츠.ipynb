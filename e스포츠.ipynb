{
  "nbformat": 4,
  "nbformat_minor": 0,
  "metadata": {
    "colab": {
      "provenance": [],
      "mount_file_id": "1gfRHZDi8f6BsWAdez1DKgKcQalD3pSRv",
      "authorship_tag": "ABX9TyNtiMux80s0dPDD7dMofSBN",
      "include_colab_link": true
    },
    "kernelspec": {
      "name": "python3",
      "display_name": "Python 3"
    },
    "language_info": {
      "name": "python"
    }
  },
  "cells": [
    {
      "cell_type": "markdown",
      "metadata": {
        "id": "view-in-github",
        "colab_type": "text"
      },
      "source": [
        "<a href=\"https://colab.research.google.com/github/geonwee/wee/blob/main/e%EC%8A%A4%ED%8F%AC%EC%B8%A0.ipynb\" target=\"_parent\"><img src=\"https://colab.research.google.com/assets/colab-badge.svg\" alt=\"Open In Colab\"/></a>"
      ]
    },
    {
      "cell_type": "code",
      "execution_count": 48,
      "metadata": {
        "colab": {
          "base_uri": "https://localhost:8080/"
        },
        "id": "S80KEuXJBwc0",
        "outputId": "e928ebf6-d196-41ec-a5c8-43d723a0487a"
      },
      "outputs": [
        {
          "output_type": "stream",
          "name": "stdout",
          "text": [
            "Drive already mounted at /content/drive; to attempt to forcibly remount, call drive.mount(\"/content/drive\", force_remount=True).\n"
          ]
        }
      ],
      "source": [
        "from google.colab import drive\n",
        "drive.mount('/content/drive')"
      ]
    },
    {
      "cell_type": "code",
      "source": [
        "DATA_PATH = \"/content/drive/MyDrive/data/\"\n",
        "DATA_PATH"
      ],
      "metadata": {
        "colab": {
          "base_uri": "https://localhost:8080/",
          "height": 36
        },
        "id": "fWSydnMyIXP5",
        "outputId": "58465d16-b3ff-4346-f9ad-f60f40f07dc7"
      },
      "execution_count": 49,
      "outputs": [
        {
          "output_type": "execute_result",
          "data": {
            "text/plain": [
              "'/content/drive/MyDrive/data/'"
            ],
            "application/vnd.google.colaboratory.intrinsic+json": {
              "type": "string"
            }
          },
          "metadata": {},
          "execution_count": 49
        }
      ]
    },
    {
      "cell_type": "code",
      "source": [
        "import pandas as pd\n",
        "import numpy as np\n",
        "import torch\n",
        "from tqdm.auto import tqdm\n",
        "import random\n",
        "import os\n",
        "\n",
        "def reset_seeds(seed):\n",
        "    random.seed(seed)\n",
        "    os.environ['PYTHONHASHSEED'] = str(seed)\n",
        "    np.random.seed(seed)\n",
        "    torch.manual_seed(seed)\n",
        "    torch.cuda.manual_seed(seed)\n",
        "    torch.backends.cudnn.deterministic = True\n",
        "\n",
        "# 파일 경로\n",
        "file_path = '/content/drive/MyDrive/data/2024_LoL_esports_match_data_from_OraclesElixir.csv'\n",
        "\n",
        "# 데이터 로드\n",
        "data2024 = pd.read_csv(file_path)\n"
      ],
      "metadata": {
        "colab": {
          "base_uri": "https://localhost:8080/"
        },
        "id": "pTWuyuk6ImeP",
        "outputId": "e3a47b3f-e98a-4253-b23b-8b4366567156"
      },
      "execution_count": 50,
      "outputs": [
        {
          "output_type": "stream",
          "name": "stderr",
          "text": [
            "<ipython-input-50-31d8615154b0>:20: DtypeWarning: Columns (2) have mixed types. Specify dtype option on import or set low_memory=False.\n",
            "  data2024 = pd.read_csv(file_path)\n"
          ]
        }
      ]
    },
    {
      "cell_type": "code",
      "source": [
        "file_path = '/content/drive/MyDrive/data/2023_LoL_esports_match_data_from_OraclesElixir.csv'\n",
        "data2023 = pd.read_csv(file_path)\n",
        "file_path = '/content/drive/MyDrive/data/2022_LoL_esports_match_data_from_OraclesElixir.csv'\n",
        "data2022 = pd.read_csv(file_path)"
      ],
      "metadata": {
        "colab": {
          "base_uri": "https://localhost:8080/"
        },
        "id": "9pTn02deKDzq",
        "outputId": "ab7e842c-6789-4b33-eb43-6e104f22edf1"
      },
      "execution_count": 53,
      "outputs": [
        {
          "output_type": "stream",
          "name": "stderr",
          "text": [
            "<ipython-input-53-18c7591c30e2>:2: DtypeWarning: Columns (2) have mixed types. Specify dtype option on import or set low_memory=False.\n",
            "  data2023 = pd.read_csv(file_path)\n",
            "<ipython-input-53-18c7591c30e2>:4: DtypeWarning: Columns (2) have mixed types. Specify dtype option on import or set low_memory=False.\n",
            "  data2022 = pd.read_csv(file_path)\n"
          ]
        }
      ]
    },
    {
      "cell_type": "code",
      "source": [
        "# 데이터프레임 리스트 생성\n",
        "dataframes = [data2022, data2023, data2024]\n",
        "\n",
        "# 데이터프레임 병합\n",
        "merged_data = pd.concat(dataframes, ignore_index=True)\n",
        "\n",
        "# 병합 결과 확인\n",
        "print(f\"병합된 데이터 크기: {merged_data.shape}\")\n",
        "print(merged_data.head())\n"
      ],
      "metadata": {
        "colab": {
          "base_uri": "https://localhost:8080/"
        },
        "id": "CLW3QR73KobN",
        "outputId": "808586eb-3a90-41a1-c1db-b17f093cb1af"
      },
      "execution_count": 54,
      "outputs": [
        {
          "output_type": "stream",
          "name": "stdout",
          "text": [
            "병합된 데이터 크기: (392448, 161)\n",
            "                  gameid datacompleteness  url league  year   split  playoffs  \\\n",
            "0  ESPORTSTMNT01_2690210         complete  NaN   LCKC  2022  Spring         0   \n",
            "1  ESPORTSTMNT01_2690210         complete  NaN   LCKC  2022  Spring         0   \n",
            "2  ESPORTSTMNT01_2690210         complete  NaN   LCKC  2022  Spring         0   \n",
            "3  ESPORTSTMNT01_2690210         complete  NaN   LCKC  2022  Spring         0   \n",
            "4  ESPORTSTMNT01_2690210         complete  NaN   LCKC  2022  Spring         0   \n",
            "\n",
            "                  date  game  patch  ...  opp_csat25 golddiffat25 xpdiffat25  \\\n",
            "0  2022-01-10 07:44:08     1  12.01  ...         NaN          NaN        NaN   \n",
            "1  2022-01-10 07:44:08     1  12.01  ...         NaN          NaN        NaN   \n",
            "2  2022-01-10 07:44:08     1  12.01  ...         NaN          NaN        NaN   \n",
            "3  2022-01-10 07:44:08     1  12.01  ...         NaN          NaN        NaN   \n",
            "4  2022-01-10 07:44:08     1  12.01  ...         NaN          NaN        NaN   \n",
            "\n",
            "  csdiffat25 killsat25 assistsat25 deathsat25 opp_killsat25 opp_assistsat25  \\\n",
            "0        NaN       NaN         NaN        NaN           NaN             NaN   \n",
            "1        NaN       NaN         NaN        NaN           NaN             NaN   \n",
            "2        NaN       NaN         NaN        NaN           NaN             NaN   \n",
            "3        NaN       NaN         NaN        NaN           NaN             NaN   \n",
            "4        NaN       NaN         NaN        NaN           NaN             NaN   \n",
            "\n",
            "  opp_deathsat25  \n",
            "0            NaN  \n",
            "1            NaN  \n",
            "2            NaN  \n",
            "3            NaN  \n",
            "4            NaN  \n",
            "\n",
            "[5 rows x 161 columns]\n"
          ]
        }
      ]
    },
    {
      "cell_type": "code",
      "source": [
        "merged_data"
      ],
      "metadata": {
        "colab": {
          "base_uri": "https://localhost:8080/",
          "height": 424
        },
        "id": "UdzI6h7UG3wI",
        "outputId": "1f4796af-eb9b-48c4-d0ef-9b13c74d3efe"
      },
      "execution_count": 55,
      "outputs": [
        {
          "output_type": "execute_result",
          "data": {
            "text/plain": [
              "                       gameid datacompleteness  url league  year   split  \\\n",
              "0       ESPORTSTMNT01_2690210         complete  NaN   LCKC  2022  Spring   \n",
              "1       ESPORTSTMNT01_2690210         complete  NaN   LCKC  2022  Spring   \n",
              "2       ESPORTSTMNT01_2690210         complete  NaN   LCKC  2022  Spring   \n",
              "3       ESPORTSTMNT01_2690210         complete  NaN   LCKC  2022  Spring   \n",
              "4       ESPORTSTMNT01_2690210         complete  NaN   LCKC  2022  Spring   \n",
              "...                       ...              ...  ...    ...   ...     ...   \n",
              "392443       LOLTMNT02_194401         complete  NaN  KeSPA  2025     NaN   \n",
              "392444       LOLTMNT02_194401         complete  NaN  KeSPA  2025     NaN   \n",
              "392445       LOLTMNT02_194401         complete  NaN  KeSPA  2025     NaN   \n",
              "392446       LOLTMNT02_194401         complete  NaN  KeSPA  2025     NaN   \n",
              "392447       LOLTMNT02_194401         complete  NaN  KeSPA  2025     NaN   \n",
              "\n",
              "        playoffs                 date  game  patch  ...  opp_csat25  \\\n",
              "0              0  2022-01-10 07:44:08     1  12.01  ...         NaN   \n",
              "1              0  2022-01-10 07:44:08     1  12.01  ...         NaN   \n",
              "2              0  2022-01-10 07:44:08     1  12.01  ...         NaN   \n",
              "3              0  2022-01-10 07:44:08     1  12.01  ...         NaN   \n",
              "4              0  2022-01-10 07:44:08     1  12.01  ...         NaN   \n",
              "...          ...                  ...   ...    ...  ...         ...   \n",
              "392443         0  2024-12-08 09:03:13     4  14.23  ...       211.0   \n",
              "392444         0  2024-12-08 09:03:13     4  14.23  ...       253.0   \n",
              "392445         0  2024-12-08 09:03:13     4  14.23  ...        35.0   \n",
              "392446         0  2024-12-08 09:03:13     4  14.23  ...       847.0   \n",
              "392447         0  2024-12-08 09:03:13     4  14.23  ...       932.0   \n",
              "\n",
              "       golddiffat25 xpdiffat25 csdiffat25 killsat25 assistsat25 deathsat25  \\\n",
              "0               NaN        NaN        NaN       NaN         NaN        NaN   \n",
              "1               NaN        NaN        NaN       NaN         NaN        NaN   \n",
              "2               NaN        NaN        NaN       NaN         NaN        NaN   \n",
              "3               NaN        NaN        NaN       NaN         NaN        NaN   \n",
              "4               NaN        NaN        NaN       NaN         NaN        NaN   \n",
              "...             ...        ...        ...       ...         ...        ...   \n",
              "392443      -1050.0     1845.0       36.0       0.0         2.0        2.0   \n",
              "392444       -827.0     -702.0       -3.0       1.0         0.0        0.0   \n",
              "392445       -146.0     -383.0       -5.0       0.0         4.0        2.0   \n",
              "392446       3278.0     3672.0       85.0       8.0        16.0        7.0   \n",
              "392447      -3278.0    -3672.0      -85.0       7.0         9.0        8.0   \n",
              "\n",
              "       opp_killsat25 opp_assistsat25 opp_deathsat25  \n",
              "0                NaN             NaN            NaN  \n",
              "1                NaN             NaN            NaN  \n",
              "2                NaN             NaN            NaN  \n",
              "3                NaN             NaN            NaN  \n",
              "4                NaN             NaN            NaN  \n",
              "...              ...             ...            ...  \n",
              "392443           4.0             1.0            2.0  \n",
              "392444           1.0             5.0            0.0  \n",
              "392445           0.0             5.0            2.0  \n",
              "392446           7.0             9.0            8.0  \n",
              "392447           8.0            16.0            7.0  \n",
              "\n",
              "[392448 rows x 161 columns]"
            ],
            "text/html": [
              "\n",
              "  <div id=\"df-1a3e27ff-c5ca-4b09-8c8f-4abb2658c6cd\" class=\"colab-df-container\">\n",
              "    <div>\n",
              "<style scoped>\n",
              "    .dataframe tbody tr th:only-of-type {\n",
              "        vertical-align: middle;\n",
              "    }\n",
              "\n",
              "    .dataframe tbody tr th {\n",
              "        vertical-align: top;\n",
              "    }\n",
              "\n",
              "    .dataframe thead th {\n",
              "        text-align: right;\n",
              "    }\n",
              "</style>\n",
              "<table border=\"1\" class=\"dataframe\">\n",
              "  <thead>\n",
              "    <tr style=\"text-align: right;\">\n",
              "      <th></th>\n",
              "      <th>gameid</th>\n",
              "      <th>datacompleteness</th>\n",
              "      <th>url</th>\n",
              "      <th>league</th>\n",
              "      <th>year</th>\n",
              "      <th>split</th>\n",
              "      <th>playoffs</th>\n",
              "      <th>date</th>\n",
              "      <th>game</th>\n",
              "      <th>patch</th>\n",
              "      <th>...</th>\n",
              "      <th>opp_csat25</th>\n",
              "      <th>golddiffat25</th>\n",
              "      <th>xpdiffat25</th>\n",
              "      <th>csdiffat25</th>\n",
              "      <th>killsat25</th>\n",
              "      <th>assistsat25</th>\n",
              "      <th>deathsat25</th>\n",
              "      <th>opp_killsat25</th>\n",
              "      <th>opp_assistsat25</th>\n",
              "      <th>opp_deathsat25</th>\n",
              "    </tr>\n",
              "  </thead>\n",
              "  <tbody>\n",
              "    <tr>\n",
              "      <th>0</th>\n",
              "      <td>ESPORTSTMNT01_2690210</td>\n",
              "      <td>complete</td>\n",
              "      <td>NaN</td>\n",
              "      <td>LCKC</td>\n",
              "      <td>2022</td>\n",
              "      <td>Spring</td>\n",
              "      <td>0</td>\n",
              "      <td>2022-01-10 07:44:08</td>\n",
              "      <td>1</td>\n",
              "      <td>12.01</td>\n",
              "      <td>...</td>\n",
              "      <td>NaN</td>\n",
              "      <td>NaN</td>\n",
              "      <td>NaN</td>\n",
              "      <td>NaN</td>\n",
              "      <td>NaN</td>\n",
              "      <td>NaN</td>\n",
              "      <td>NaN</td>\n",
              "      <td>NaN</td>\n",
              "      <td>NaN</td>\n",
              "      <td>NaN</td>\n",
              "    </tr>\n",
              "    <tr>\n",
              "      <th>1</th>\n",
              "      <td>ESPORTSTMNT01_2690210</td>\n",
              "      <td>complete</td>\n",
              "      <td>NaN</td>\n",
              "      <td>LCKC</td>\n",
              "      <td>2022</td>\n",
              "      <td>Spring</td>\n",
              "      <td>0</td>\n",
              "      <td>2022-01-10 07:44:08</td>\n",
              "      <td>1</td>\n",
              "      <td>12.01</td>\n",
              "      <td>...</td>\n",
              "      <td>NaN</td>\n",
              "      <td>NaN</td>\n",
              "      <td>NaN</td>\n",
              "      <td>NaN</td>\n",
              "      <td>NaN</td>\n",
              "      <td>NaN</td>\n",
              "      <td>NaN</td>\n",
              "      <td>NaN</td>\n",
              "      <td>NaN</td>\n",
              "      <td>NaN</td>\n",
              "    </tr>\n",
              "    <tr>\n",
              "      <th>2</th>\n",
              "      <td>ESPORTSTMNT01_2690210</td>\n",
              "      <td>complete</td>\n",
              "      <td>NaN</td>\n",
              "      <td>LCKC</td>\n",
              "      <td>2022</td>\n",
              "      <td>Spring</td>\n",
              "      <td>0</td>\n",
              "      <td>2022-01-10 07:44:08</td>\n",
              "      <td>1</td>\n",
              "      <td>12.01</td>\n",
              "      <td>...</td>\n",
              "      <td>NaN</td>\n",
              "      <td>NaN</td>\n",
              "      <td>NaN</td>\n",
              "      <td>NaN</td>\n",
              "      <td>NaN</td>\n",
              "      <td>NaN</td>\n",
              "      <td>NaN</td>\n",
              "      <td>NaN</td>\n",
              "      <td>NaN</td>\n",
              "      <td>NaN</td>\n",
              "    </tr>\n",
              "    <tr>\n",
              "      <th>3</th>\n",
              "      <td>ESPORTSTMNT01_2690210</td>\n",
              "      <td>complete</td>\n",
              "      <td>NaN</td>\n",
              "      <td>LCKC</td>\n",
              "      <td>2022</td>\n",
              "      <td>Spring</td>\n",
              "      <td>0</td>\n",
              "      <td>2022-01-10 07:44:08</td>\n",
              "      <td>1</td>\n",
              "      <td>12.01</td>\n",
              "      <td>...</td>\n",
              "      <td>NaN</td>\n",
              "      <td>NaN</td>\n",
              "      <td>NaN</td>\n",
              "      <td>NaN</td>\n",
              "      <td>NaN</td>\n",
              "      <td>NaN</td>\n",
              "      <td>NaN</td>\n",
              "      <td>NaN</td>\n",
              "      <td>NaN</td>\n",
              "      <td>NaN</td>\n",
              "    </tr>\n",
              "    <tr>\n",
              "      <th>4</th>\n",
              "      <td>ESPORTSTMNT01_2690210</td>\n",
              "      <td>complete</td>\n",
              "      <td>NaN</td>\n",
              "      <td>LCKC</td>\n",
              "      <td>2022</td>\n",
              "      <td>Spring</td>\n",
              "      <td>0</td>\n",
              "      <td>2022-01-10 07:44:08</td>\n",
              "      <td>1</td>\n",
              "      <td>12.01</td>\n",
              "      <td>...</td>\n",
              "      <td>NaN</td>\n",
              "      <td>NaN</td>\n",
              "      <td>NaN</td>\n",
              "      <td>NaN</td>\n",
              "      <td>NaN</td>\n",
              "      <td>NaN</td>\n",
              "      <td>NaN</td>\n",
              "      <td>NaN</td>\n",
              "      <td>NaN</td>\n",
              "      <td>NaN</td>\n",
              "    </tr>\n",
              "    <tr>\n",
              "      <th>...</th>\n",
              "      <td>...</td>\n",
              "      <td>...</td>\n",
              "      <td>...</td>\n",
              "      <td>...</td>\n",
              "      <td>...</td>\n",
              "      <td>...</td>\n",
              "      <td>...</td>\n",
              "      <td>...</td>\n",
              "      <td>...</td>\n",
              "      <td>...</td>\n",
              "      <td>...</td>\n",
              "      <td>...</td>\n",
              "      <td>...</td>\n",
              "      <td>...</td>\n",
              "      <td>...</td>\n",
              "      <td>...</td>\n",
              "      <td>...</td>\n",
              "      <td>...</td>\n",
              "      <td>...</td>\n",
              "      <td>...</td>\n",
              "      <td>...</td>\n",
              "    </tr>\n",
              "    <tr>\n",
              "      <th>392443</th>\n",
              "      <td>LOLTMNT02_194401</td>\n",
              "      <td>complete</td>\n",
              "      <td>NaN</td>\n",
              "      <td>KeSPA</td>\n",
              "      <td>2025</td>\n",
              "      <td>NaN</td>\n",
              "      <td>0</td>\n",
              "      <td>2024-12-08 09:03:13</td>\n",
              "      <td>4</td>\n",
              "      <td>14.23</td>\n",
              "      <td>...</td>\n",
              "      <td>211.0</td>\n",
              "      <td>-1050.0</td>\n",
              "      <td>1845.0</td>\n",
              "      <td>36.0</td>\n",
              "      <td>0.0</td>\n",
              "      <td>2.0</td>\n",
              "      <td>2.0</td>\n",
              "      <td>4.0</td>\n",
              "      <td>1.0</td>\n",
              "      <td>2.0</td>\n",
              "    </tr>\n",
              "    <tr>\n",
              "      <th>392444</th>\n",
              "      <td>LOLTMNT02_194401</td>\n",
              "      <td>complete</td>\n",
              "      <td>NaN</td>\n",
              "      <td>KeSPA</td>\n",
              "      <td>2025</td>\n",
              "      <td>NaN</td>\n",
              "      <td>0</td>\n",
              "      <td>2024-12-08 09:03:13</td>\n",
              "      <td>4</td>\n",
              "      <td>14.23</td>\n",
              "      <td>...</td>\n",
              "      <td>253.0</td>\n",
              "      <td>-827.0</td>\n",
              "      <td>-702.0</td>\n",
              "      <td>-3.0</td>\n",
              "      <td>1.0</td>\n",
              "      <td>0.0</td>\n",
              "      <td>0.0</td>\n",
              "      <td>1.0</td>\n",
              "      <td>5.0</td>\n",
              "      <td>0.0</td>\n",
              "    </tr>\n",
              "    <tr>\n",
              "      <th>392445</th>\n",
              "      <td>LOLTMNT02_194401</td>\n",
              "      <td>complete</td>\n",
              "      <td>NaN</td>\n",
              "      <td>KeSPA</td>\n",
              "      <td>2025</td>\n",
              "      <td>NaN</td>\n",
              "      <td>0</td>\n",
              "      <td>2024-12-08 09:03:13</td>\n",
              "      <td>4</td>\n",
              "      <td>14.23</td>\n",
              "      <td>...</td>\n",
              "      <td>35.0</td>\n",
              "      <td>-146.0</td>\n",
              "      <td>-383.0</td>\n",
              "      <td>-5.0</td>\n",
              "      <td>0.0</td>\n",
              "      <td>4.0</td>\n",
              "      <td>2.0</td>\n",
              "      <td>0.0</td>\n",
              "      <td>5.0</td>\n",
              "      <td>2.0</td>\n",
              "    </tr>\n",
              "    <tr>\n",
              "      <th>392446</th>\n",
              "      <td>LOLTMNT02_194401</td>\n",
              "      <td>complete</td>\n",
              "      <td>NaN</td>\n",
              "      <td>KeSPA</td>\n",
              "      <td>2025</td>\n",
              "      <td>NaN</td>\n",
              "      <td>0</td>\n",
              "      <td>2024-12-08 09:03:13</td>\n",
              "      <td>4</td>\n",
              "      <td>14.23</td>\n",
              "      <td>...</td>\n",
              "      <td>847.0</td>\n",
              "      <td>3278.0</td>\n",
              "      <td>3672.0</td>\n",
              "      <td>85.0</td>\n",
              "      <td>8.0</td>\n",
              "      <td>16.0</td>\n",
              "      <td>7.0</td>\n",
              "      <td>7.0</td>\n",
              "      <td>9.0</td>\n",
              "      <td>8.0</td>\n",
              "    </tr>\n",
              "    <tr>\n",
              "      <th>392447</th>\n",
              "      <td>LOLTMNT02_194401</td>\n",
              "      <td>complete</td>\n",
              "      <td>NaN</td>\n",
              "      <td>KeSPA</td>\n",
              "      <td>2025</td>\n",
              "      <td>NaN</td>\n",
              "      <td>0</td>\n",
              "      <td>2024-12-08 09:03:13</td>\n",
              "      <td>4</td>\n",
              "      <td>14.23</td>\n",
              "      <td>...</td>\n",
              "      <td>932.0</td>\n",
              "      <td>-3278.0</td>\n",
              "      <td>-3672.0</td>\n",
              "      <td>-85.0</td>\n",
              "      <td>7.0</td>\n",
              "      <td>9.0</td>\n",
              "      <td>8.0</td>\n",
              "      <td>8.0</td>\n",
              "      <td>16.0</td>\n",
              "      <td>7.0</td>\n",
              "    </tr>\n",
              "  </tbody>\n",
              "</table>\n",
              "<p>392448 rows × 161 columns</p>\n",
              "</div>\n",
              "    <div class=\"colab-df-buttons\">\n",
              "\n",
              "  <div class=\"colab-df-container\">\n",
              "    <button class=\"colab-df-convert\" onclick=\"convertToInteractive('df-1a3e27ff-c5ca-4b09-8c8f-4abb2658c6cd')\"\n",
              "            title=\"Convert this dataframe to an interactive table.\"\n",
              "            style=\"display:none;\">\n",
              "\n",
              "  <svg xmlns=\"http://www.w3.org/2000/svg\" height=\"24px\" viewBox=\"0 -960 960 960\">\n",
              "    <path d=\"M120-120v-720h720v720H120Zm60-500h600v-160H180v160Zm220 220h160v-160H400v160Zm0 220h160v-160H400v160ZM180-400h160v-160H180v160Zm440 0h160v-160H620v160ZM180-180h160v-160H180v160Zm440 0h160v-160H620v160Z\"/>\n",
              "  </svg>\n",
              "    </button>\n",
              "\n",
              "  <style>\n",
              "    .colab-df-container {\n",
              "      display:flex;\n",
              "      gap: 12px;\n",
              "    }\n",
              "\n",
              "    .colab-df-convert {\n",
              "      background-color: #E8F0FE;\n",
              "      border: none;\n",
              "      border-radius: 50%;\n",
              "      cursor: pointer;\n",
              "      display: none;\n",
              "      fill: #1967D2;\n",
              "      height: 32px;\n",
              "      padding: 0 0 0 0;\n",
              "      width: 32px;\n",
              "    }\n",
              "\n",
              "    .colab-df-convert:hover {\n",
              "      background-color: #E2EBFA;\n",
              "      box-shadow: 0px 1px 2px rgba(60, 64, 67, 0.3), 0px 1px 3px 1px rgba(60, 64, 67, 0.15);\n",
              "      fill: #174EA6;\n",
              "    }\n",
              "\n",
              "    .colab-df-buttons div {\n",
              "      margin-bottom: 4px;\n",
              "    }\n",
              "\n",
              "    [theme=dark] .colab-df-convert {\n",
              "      background-color: #3B4455;\n",
              "      fill: #D2E3FC;\n",
              "    }\n",
              "\n",
              "    [theme=dark] .colab-df-convert:hover {\n",
              "      background-color: #434B5C;\n",
              "      box-shadow: 0px 1px 3px 1px rgba(0, 0, 0, 0.15);\n",
              "      filter: drop-shadow(0px 1px 2px rgba(0, 0, 0, 0.3));\n",
              "      fill: #FFFFFF;\n",
              "    }\n",
              "  </style>\n",
              "\n",
              "    <script>\n",
              "      const buttonEl =\n",
              "        document.querySelector('#df-1a3e27ff-c5ca-4b09-8c8f-4abb2658c6cd button.colab-df-convert');\n",
              "      buttonEl.style.display =\n",
              "        google.colab.kernel.accessAllowed ? 'block' : 'none';\n",
              "\n",
              "      async function convertToInteractive(key) {\n",
              "        const element = document.querySelector('#df-1a3e27ff-c5ca-4b09-8c8f-4abb2658c6cd');\n",
              "        const dataTable =\n",
              "          await google.colab.kernel.invokeFunction('convertToInteractive',\n",
              "                                                    [key], {});\n",
              "        if (!dataTable) return;\n",
              "\n",
              "        const docLinkHtml = 'Like what you see? Visit the ' +\n",
              "          '<a target=\"_blank\" href=https://colab.research.google.com/notebooks/data_table.ipynb>data table notebook</a>'\n",
              "          + ' to learn more about interactive tables.';\n",
              "        element.innerHTML = '';\n",
              "        dataTable['output_type'] = 'display_data';\n",
              "        await google.colab.output.renderOutput(dataTable, element);\n",
              "        const docLink = document.createElement('div');\n",
              "        docLink.innerHTML = docLinkHtml;\n",
              "        element.appendChild(docLink);\n",
              "      }\n",
              "    </script>\n",
              "  </div>\n",
              "\n",
              "\n",
              "<div id=\"df-fc9b30d3-6804-41af-8b5a-2bf62a809f1c\">\n",
              "  <button class=\"colab-df-quickchart\" onclick=\"quickchart('df-fc9b30d3-6804-41af-8b5a-2bf62a809f1c')\"\n",
              "            title=\"Suggest charts\"\n",
              "            style=\"display:none;\">\n",
              "\n",
              "<svg xmlns=\"http://www.w3.org/2000/svg\" height=\"24px\"viewBox=\"0 0 24 24\"\n",
              "     width=\"24px\">\n",
              "    <g>\n",
              "        <path d=\"M19 3H5c-1.1 0-2 .9-2 2v14c0 1.1.9 2 2 2h14c1.1 0 2-.9 2-2V5c0-1.1-.9-2-2-2zM9 17H7v-7h2v7zm4 0h-2V7h2v10zm4 0h-2v-4h2v4z\"/>\n",
              "    </g>\n",
              "</svg>\n",
              "  </button>\n",
              "\n",
              "<style>\n",
              "  .colab-df-quickchart {\n",
              "      --bg-color: #E8F0FE;\n",
              "      --fill-color: #1967D2;\n",
              "      --hover-bg-color: #E2EBFA;\n",
              "      --hover-fill-color: #174EA6;\n",
              "      --disabled-fill-color: #AAA;\n",
              "      --disabled-bg-color: #DDD;\n",
              "  }\n",
              "\n",
              "  [theme=dark] .colab-df-quickchart {\n",
              "      --bg-color: #3B4455;\n",
              "      --fill-color: #D2E3FC;\n",
              "      --hover-bg-color: #434B5C;\n",
              "      --hover-fill-color: #FFFFFF;\n",
              "      --disabled-bg-color: #3B4455;\n",
              "      --disabled-fill-color: #666;\n",
              "  }\n",
              "\n",
              "  .colab-df-quickchart {\n",
              "    background-color: var(--bg-color);\n",
              "    border: none;\n",
              "    border-radius: 50%;\n",
              "    cursor: pointer;\n",
              "    display: none;\n",
              "    fill: var(--fill-color);\n",
              "    height: 32px;\n",
              "    padding: 0;\n",
              "    width: 32px;\n",
              "  }\n",
              "\n",
              "  .colab-df-quickchart:hover {\n",
              "    background-color: var(--hover-bg-color);\n",
              "    box-shadow: 0 1px 2px rgba(60, 64, 67, 0.3), 0 1px 3px 1px rgba(60, 64, 67, 0.15);\n",
              "    fill: var(--button-hover-fill-color);\n",
              "  }\n",
              "\n",
              "  .colab-df-quickchart-complete:disabled,\n",
              "  .colab-df-quickchart-complete:disabled:hover {\n",
              "    background-color: var(--disabled-bg-color);\n",
              "    fill: var(--disabled-fill-color);\n",
              "    box-shadow: none;\n",
              "  }\n",
              "\n",
              "  .colab-df-spinner {\n",
              "    border: 2px solid var(--fill-color);\n",
              "    border-color: transparent;\n",
              "    border-bottom-color: var(--fill-color);\n",
              "    animation:\n",
              "      spin 1s steps(1) infinite;\n",
              "  }\n",
              "\n",
              "  @keyframes spin {\n",
              "    0% {\n",
              "      border-color: transparent;\n",
              "      border-bottom-color: var(--fill-color);\n",
              "      border-left-color: var(--fill-color);\n",
              "    }\n",
              "    20% {\n",
              "      border-color: transparent;\n",
              "      border-left-color: var(--fill-color);\n",
              "      border-top-color: var(--fill-color);\n",
              "    }\n",
              "    30% {\n",
              "      border-color: transparent;\n",
              "      border-left-color: var(--fill-color);\n",
              "      border-top-color: var(--fill-color);\n",
              "      border-right-color: var(--fill-color);\n",
              "    }\n",
              "    40% {\n",
              "      border-color: transparent;\n",
              "      border-right-color: var(--fill-color);\n",
              "      border-top-color: var(--fill-color);\n",
              "    }\n",
              "    60% {\n",
              "      border-color: transparent;\n",
              "      border-right-color: var(--fill-color);\n",
              "    }\n",
              "    80% {\n",
              "      border-color: transparent;\n",
              "      border-right-color: var(--fill-color);\n",
              "      border-bottom-color: var(--fill-color);\n",
              "    }\n",
              "    90% {\n",
              "      border-color: transparent;\n",
              "      border-bottom-color: var(--fill-color);\n",
              "    }\n",
              "  }\n",
              "</style>\n",
              "\n",
              "  <script>\n",
              "    async function quickchart(key) {\n",
              "      const quickchartButtonEl =\n",
              "        document.querySelector('#' + key + ' button');\n",
              "      quickchartButtonEl.disabled = true;  // To prevent multiple clicks.\n",
              "      quickchartButtonEl.classList.add('colab-df-spinner');\n",
              "      try {\n",
              "        const charts = await google.colab.kernel.invokeFunction(\n",
              "            'suggestCharts', [key], {});\n",
              "      } catch (error) {\n",
              "        console.error('Error during call to suggestCharts:', error);\n",
              "      }\n",
              "      quickchartButtonEl.classList.remove('colab-df-spinner');\n",
              "      quickchartButtonEl.classList.add('colab-df-quickchart-complete');\n",
              "    }\n",
              "    (() => {\n",
              "      let quickchartButtonEl =\n",
              "        document.querySelector('#df-fc9b30d3-6804-41af-8b5a-2bf62a809f1c button');\n",
              "      quickchartButtonEl.style.display =\n",
              "        google.colab.kernel.accessAllowed ? 'block' : 'none';\n",
              "    })();\n",
              "  </script>\n",
              "</div>\n",
              "\n",
              "  <div id=\"id_c6da0e42-5364-41ea-924e-f63ced6eceef\">\n",
              "    <style>\n",
              "      .colab-df-generate {\n",
              "        background-color: #E8F0FE;\n",
              "        border: none;\n",
              "        border-radius: 50%;\n",
              "        cursor: pointer;\n",
              "        display: none;\n",
              "        fill: #1967D2;\n",
              "        height: 32px;\n",
              "        padding: 0 0 0 0;\n",
              "        width: 32px;\n",
              "      }\n",
              "\n",
              "      .colab-df-generate:hover {\n",
              "        background-color: #E2EBFA;\n",
              "        box-shadow: 0px 1px 2px rgba(60, 64, 67, 0.3), 0px 1px 3px 1px rgba(60, 64, 67, 0.15);\n",
              "        fill: #174EA6;\n",
              "      }\n",
              "\n",
              "      [theme=dark] .colab-df-generate {\n",
              "        background-color: #3B4455;\n",
              "        fill: #D2E3FC;\n",
              "      }\n",
              "\n",
              "      [theme=dark] .colab-df-generate:hover {\n",
              "        background-color: #434B5C;\n",
              "        box-shadow: 0px 1px 3px 1px rgba(0, 0, 0, 0.15);\n",
              "        filter: drop-shadow(0px 1px 2px rgba(0, 0, 0, 0.3));\n",
              "        fill: #FFFFFF;\n",
              "      }\n",
              "    </style>\n",
              "    <button class=\"colab-df-generate\" onclick=\"generateWithVariable('merged_data')\"\n",
              "            title=\"Generate code using this dataframe.\"\n",
              "            style=\"display:none;\">\n",
              "\n",
              "  <svg xmlns=\"http://www.w3.org/2000/svg\" height=\"24px\"viewBox=\"0 0 24 24\"\n",
              "       width=\"24px\">\n",
              "    <path d=\"M7,19H8.4L18.45,9,17,7.55,7,17.6ZM5,21V16.75L18.45,3.32a2,2,0,0,1,2.83,0l1.4,1.43a1.91,1.91,0,0,1,.58,1.4,1.91,1.91,0,0,1-.58,1.4L9.25,21ZM18.45,9,17,7.55Zm-12,3A5.31,5.31,0,0,0,4.9,8.1,5.31,5.31,0,0,0,1,6.5,5.31,5.31,0,0,0,4.9,4.9,5.31,5.31,0,0,0,6.5,1,5.31,5.31,0,0,0,8.1,4.9,5.31,5.31,0,0,0,12,6.5,5.46,5.46,0,0,0,6.5,12Z\"/>\n",
              "  </svg>\n",
              "    </button>\n",
              "    <script>\n",
              "      (() => {\n",
              "      const buttonEl =\n",
              "        document.querySelector('#id_c6da0e42-5364-41ea-924e-f63ced6eceef button.colab-df-generate');\n",
              "      buttonEl.style.display =\n",
              "        google.colab.kernel.accessAllowed ? 'block' : 'none';\n",
              "\n",
              "      buttonEl.onclick = () => {\n",
              "        google.colab.notebook.generateWithVariable('merged_data');\n",
              "      }\n",
              "      })();\n",
              "    </script>\n",
              "  </div>\n",
              "\n",
              "    </div>\n",
              "  </div>\n"
            ],
            "application/vnd.google.colaboratory.intrinsic+json": {
              "type": "dataframe",
              "variable_name": "merged_data"
            }
          },
          "metadata": {},
          "execution_count": 55
        }
      ]
    },
    {
      "cell_type": "code",
      "source": [
        "# 특정 열 삭제\n",
        "merged_data = merged_data.drop(columns=['void_grubs', 'opp_void_grubs','monsterkillsownjungle','monsterkillsenemyjungle','url','split'])"
      ],
      "metadata": {
        "id": "F8TRFrQlJe6a"
      },
      "execution_count": 56,
      "outputs": []
    },
    {
      "cell_type": "code",
      "source": [
        "merged_data.shape"
      ],
      "metadata": {
        "colab": {
          "base_uri": "https://localhost:8080/"
        },
        "id": "uRNQ_ILsJrx8",
        "outputId": "3bb8e8d6-19cd-4a48-c6d1-e1b7a150f5a7"
      },
      "execution_count": 57,
      "outputs": [
        {
          "output_type": "execute_result",
          "data": {
            "text/plain": [
              "(392448, 155)"
            ]
          },
          "metadata": {},
          "execution_count": 57
        }
      ]
    },
    {
      "cell_type": "code",
      "source": [
        "# 팀 데이터 분류: playername과 playerid가 결측치인 경우\n",
        "team_data = merged_data[merged_data['playername'].isnull() & merged_data['playerid'].isnull()]\n",
        "\n",
        "# 선수 데이터 분류: playername과 playerid가 결측치가 아닌 경우\n",
        "player_data = merged_data[~(merged_data['playername'].isnull() & merged_data['playerid'].isnull())]\n",
        "\n",
        "# 결과 확인\n",
        "print(f\"팀 데이터 크기: {team_data.shape}\")\n",
        "print(f\"선수 데이터 크기: {player_data.shape}\")\n"
      ],
      "metadata": {
        "colab": {
          "base_uri": "https://localhost:8080/"
        },
        "id": "C3WANClOJ2pw",
        "outputId": "3740ae23-4447-484e-bbae-6ffb94ccb425"
      },
      "execution_count": 58,
      "outputs": [
        {
          "output_type": "stream",
          "name": "stdout",
          "text": [
            "팀 데이터 크기: (65457, 155)\n",
            "선수 데이터 크기: (326991, 155)\n"
          ]
        }
      ]
    },
    {
      "cell_type": "code",
      "source": [
        "team_data.shape, player_data.shape"
      ],
      "metadata": {
        "colab": {
          "base_uri": "https://localhost:8080/"
        },
        "id": "8Diej7ayMMVv",
        "outputId": "cb3602a1-060f-40db-afd0-d6cf4ff76c89"
      },
      "execution_count": 59,
      "outputs": [
        {
          "output_type": "execute_result",
          "data": {
            "text/plain": [
              "((65457, 155), (326991, 155))"
            ]
          },
          "metadata": {},
          "execution_count": 59
        }
      ]
    },
    {
      "cell_type": "code",
      "source": [
        "# 'None'으로 채울 열 목록\n",
        "columns_to_fill = [\n",
        "    'firstdragon', 'dragons', 'opp_dragons', 'elementaldrakes', 'opp_elementaldrakes',\n",
        "    'infernals', 'mountains', 'clouds', 'oceans', 'chemtechs', 'hextechs',\n",
        "    'dragons (type unknown)', 'elders', 'opp_elders', 'firstherald', 'heralds',\n",
        "    'opp_heralds', 'firstbaron', 'barons', 'opp_barons', 'firsttower', 'towers',\n",
        "    'opp_towers', 'firstmidtower', 'firsttothreetowers', 'turretplates', 'opp_turretplates',\n",
        "    'pick1', 'pick2', 'pick3', 'pick4', 'pick5', 'gspd', 'gpr', 'ban1', 'ban2', 'ban3', 'ban4', 'ban5'\n",
        "]\n",
        "\n",
        "# 결측치 'None'으로 채우기\n",
        "player_data[columns_to_fill] = player_data[columns_to_fill].fillna('None')\n",
        "\n",
        "# 결과 확인\n",
        "print(player_data[columns_to_fill].isnull().sum())\n",
        "print(f\"선택된 열의 결측치가 'None'으로 처리되었습니다.\")"
      ],
      "metadata": {
        "colab": {
          "base_uri": "https://localhost:8080/"
        },
        "id": "t8vOiO5CMRuI",
        "outputId": "11c6205a-a484-40b4-c248-4e643cd41baa"
      },
      "execution_count": 60,
      "outputs": [
        {
          "output_type": "stream",
          "name": "stderr",
          "text": [
            "<ipython-input-60-c3ba55535ea7>:12: SettingWithCopyWarning: \n",
            "A value is trying to be set on a copy of a slice from a DataFrame.\n",
            "Try using .loc[row_indexer,col_indexer] = value instead\n",
            "\n",
            "See the caveats in the documentation: https://pandas.pydata.org/pandas-docs/stable/user_guide/indexing.html#returning-a-view-versus-a-copy\n",
            "  player_data[columns_to_fill] = player_data[columns_to_fill].fillna('None')\n"
          ]
        },
        {
          "output_type": "stream",
          "name": "stdout",
          "text": [
            "firstdragon               0\n",
            "dragons                   0\n",
            "opp_dragons               0\n",
            "elementaldrakes           0\n",
            "opp_elementaldrakes       0\n",
            "infernals                 0\n",
            "mountains                 0\n",
            "clouds                    0\n",
            "oceans                    0\n",
            "chemtechs                 0\n",
            "hextechs                  0\n",
            "dragons (type unknown)    0\n",
            "elders                    0\n",
            "opp_elders                0\n",
            "firstherald               0\n",
            "heralds                   0\n",
            "opp_heralds               0\n",
            "firstbaron                0\n",
            "barons                    0\n",
            "opp_barons                0\n",
            "firsttower                0\n",
            "towers                    0\n",
            "opp_towers                0\n",
            "firstmidtower             0\n",
            "firsttothreetowers        0\n",
            "turretplates              0\n",
            "opp_turretplates          0\n",
            "pick1                     0\n",
            "pick2                     0\n",
            "pick3                     0\n",
            "pick4                     0\n",
            "pick5                     0\n",
            "gspd                      0\n",
            "gpr                       0\n",
            "ban1                      0\n",
            "ban2                      0\n",
            "ban3                      0\n",
            "ban4                      0\n",
            "ban5                      0\n",
            "dtype: int64\n",
            "선택된 열의 결측치가 'None'으로 처리되었습니다.\n"
          ]
        }
      ]
    },
    {
      "cell_type": "code",
      "source": [
        "team_data.shape, player_data.shape"
      ],
      "metadata": {
        "colab": {
          "base_uri": "https://localhost:8080/"
        },
        "id": "dr20joFvNzjl",
        "outputId": "6e544704-f9d5-4dd0-b0d2-2b355c54e0e2"
      },
      "execution_count": 61,
      "outputs": [
        {
          "output_type": "execute_result",
          "data": {
            "text/plain": [
              "((65457, 155), (326991, 155))"
            ]
          },
          "metadata": {},
          "execution_count": 61
        }
      ]
    },
    {
      "cell_type": "code",
      "source": [
        "# 'None'으로 처리할 열 목록\n",
        "columns_to_fill_none_team = ['firstbloodvictim', 'firstbloodassist','playerid', 'playername', 'firstbloodkill','damageshare', 'earnedgoldshare', 'champion',\n",
        "                             'ban1', 'ban2', 'ban3', 'ban4', 'ban5']\n",
        "\n",
        "# 팀 데이터에서 결측치를 'None'으로 채우기\n",
        "team_data[columns_to_fill_none_team] = team_data[columns_to_fill_none_team].fillna('None')\n",
        "\n",
        "# 결과 확인\n",
        "print(team_data[columns_to_fill_none_team].isnull().sum())\n"
      ],
      "metadata": {
        "colab": {
          "base_uri": "https://localhost:8080/"
        },
        "id": "33MZkWPHP3tw",
        "outputId": "5e6d892f-8196-40cf-f3b2-4715750fc07d"
      },
      "execution_count": 62,
      "outputs": [
        {
          "output_type": "stream",
          "name": "stdout",
          "text": [
            "firstbloodvictim    0\n",
            "firstbloodassist    0\n",
            "playerid            0\n",
            "playername          0\n",
            "firstbloodkill      0\n",
            "damageshare         0\n",
            "earnedgoldshare     0\n",
            "champion            0\n",
            "ban1                0\n",
            "ban2                0\n",
            "ban3                0\n",
            "ban4                0\n",
            "ban5                0\n",
            "dtype: int64\n"
          ]
        },
        {
          "output_type": "stream",
          "name": "stderr",
          "text": [
            "<ipython-input-62-e82c13382e17>:6: SettingWithCopyWarning: \n",
            "A value is trying to be set on a copy of a slice from a DataFrame.\n",
            "Try using .loc[row_indexer,col_indexer] = value instead\n",
            "\n",
            "See the caveats in the documentation: https://pandas.pydata.org/pandas-docs/stable/user_guide/indexing.html#returning-a-view-versus-a-copy\n",
            "  team_data[columns_to_fill_none_team] = team_data[columns_to_fill_none_team].fillna('None')\n"
          ]
        }
      ]
    },
    {
      "cell_type": "code",
      "source": [
        "team_data.shape, player_data.shape"
      ],
      "metadata": {
        "colab": {
          "base_uri": "https://localhost:8080/"
        },
        "id": "aKLr4QFaP5cD",
        "outputId": "9b8cb485-4c0b-4555-bfeb-9189c9094b06"
      },
      "execution_count": 63,
      "outputs": [
        {
          "output_type": "execute_result",
          "data": {
            "text/plain": [
              "((65457, 155), (326991, 155))"
            ]
          },
          "metadata": {},
          "execution_count": 63
        }
      ]
    },
    {
      "cell_type": "code",
      "source": [
        "# 숫자형 열만 선택하여 결측치를 평균값으로 대체\n",
        "team_data = team_data.apply(lambda col: col.fillna(col.mean()) if col.dtype in ['float64', 'int64'] else col)\n",
        "player_data = player_data.apply(lambda col: col.fillna(col.mean()) if col.dtype in ['float64', 'int64'] else col)\n",
        "\n",
        "# 결과 확인\n",
        "print(f\"팀 데이터의 남은 결측치: \\n{team_data.isnull().sum().sum()} (모두 처리됨)\")\n",
        "print(f\"선수 데이터의 남은 결측치: \\n{player_data.isnull().sum().sum()} (모두 처리됨)\")\n"
      ],
      "metadata": {
        "colab": {
          "base_uri": "https://localhost:8080/"
        },
        "id": "sGlcAAFXaIcR",
        "outputId": "6f40679f-709f-4a81-d0d6-cc6921c1f684"
      },
      "execution_count": 64,
      "outputs": [
        {
          "output_type": "stream",
          "name": "stdout",
          "text": [
            "팀 데이터의 남은 결측치: \n",
            "58383 (모두 처리됨)\n",
            "선수 데이터의 남은 결측치: \n",
            "9332 (모두 처리됨)\n"
          ]
        }
      ]
    },
    {
      "cell_type": "code",
      "source": [
        "team_data.shape, player_data.shape"
      ],
      "metadata": {
        "colab": {
          "base_uri": "https://localhost:8080/"
        },
        "id": "0OQqaRKPaMaJ",
        "outputId": "747fc896-3b48-44bf-924a-dcfa8851093f"
      },
      "execution_count": 65,
      "outputs": [
        {
          "output_type": "execute_result",
          "data": {
            "text/plain": [
              "((65457, 155), (326991, 155))"
            ]
          },
          "metadata": {},
          "execution_count": 65
        }
      ]
    },
    {
      "cell_type": "code",
      "source": [
        "team_data.to_csv(f'{DATA_PATH}팀데이터.csv',index=False)\n",
        "player_data.to_csv(f'{DATA_PATH}선수데이터.csv',index=False)"
      ],
      "metadata": {
        "id": "my9IiiE2ArXj",
        "colab": {
          "base_uri": "https://localhost:8080/",
          "height": 322
        },
        "outputId": "d51decc2-7bb6-4a7a-83c4-764e166e8de1"
      },
      "execution_count": 84,
      "outputs": [
        {
          "output_type": "error",
          "ename": "KeyboardInterrupt",
          "evalue": "",
          "traceback": [
            "\u001b[0;31m---------------------------------------------------------------------------\u001b[0m",
            "\u001b[0;31mKeyboardInterrupt\u001b[0m                         Traceback (most recent call last)",
            "\u001b[0;32m<ipython-input-84-40ac33dcc7f8>\u001b[0m in \u001b[0;36m<cell line: 1>\u001b[0;34m()\u001b[0m\n\u001b[0;32m----> 1\u001b[0;31m \u001b[0mteam_data\u001b[0m\u001b[0;34m.\u001b[0m\u001b[0mto_csv\u001b[0m\u001b[0;34m(\u001b[0m\u001b[0;34mf'{DATA_PATH}팀데이터.csv'\u001b[0m\u001b[0;34m,\u001b[0m\u001b[0mindex\u001b[0m\u001b[0;34m=\u001b[0m\u001b[0;32mFalse\u001b[0m\u001b[0;34m)\u001b[0m\u001b[0;34m\u001b[0m\u001b[0;34m\u001b[0m\u001b[0m\n\u001b[0m\u001b[1;32m      2\u001b[0m \u001b[0mplayer_data\u001b[0m\u001b[0;34m.\u001b[0m\u001b[0mto_csv\u001b[0m\u001b[0;34m(\u001b[0m\u001b[0;34mf'{DATA_PATH}선수데이터.csv'\u001b[0m\u001b[0;34m,\u001b[0m\u001b[0mindex\u001b[0m\u001b[0;34m=\u001b[0m\u001b[0;32mFalse\u001b[0m\u001b[0;34m)\u001b[0m\u001b[0;34m\u001b[0m\u001b[0;34m\u001b[0m\u001b[0m\n",
            "\u001b[0;32m/usr/local/lib/python3.10/dist-packages/pandas/util/_decorators.py\u001b[0m in \u001b[0;36mwrapper\u001b[0;34m(*args, **kwargs)\u001b[0m\n\u001b[1;32m    331\u001b[0m                     \u001b[0mstacklevel\u001b[0m\u001b[0;34m=\u001b[0m\u001b[0mfind_stack_level\u001b[0m\u001b[0;34m(\u001b[0m\u001b[0;34m)\u001b[0m\u001b[0;34m,\u001b[0m\u001b[0;34m\u001b[0m\u001b[0;34m\u001b[0m\u001b[0m\n\u001b[1;32m    332\u001b[0m                 )\n\u001b[0;32m--> 333\u001b[0;31m             \u001b[0;32mreturn\u001b[0m \u001b[0mfunc\u001b[0m\u001b[0;34m(\u001b[0m\u001b[0;34m*\u001b[0m\u001b[0margs\u001b[0m\u001b[0;34m,\u001b[0m \u001b[0;34m**\u001b[0m\u001b[0mkwargs\u001b[0m\u001b[0;34m)\u001b[0m\u001b[0;34m\u001b[0m\u001b[0;34m\u001b[0m\u001b[0m\n\u001b[0m\u001b[1;32m    334\u001b[0m \u001b[0;34m\u001b[0m\u001b[0m\n\u001b[1;32m    335\u001b[0m         \u001b[0;31m# error: \"Callable[[VarArg(Any), KwArg(Any)], Any]\" has no\u001b[0m\u001b[0;34m\u001b[0m\u001b[0;34m\u001b[0m\u001b[0m\n",
            "\u001b[0;32m/usr/local/lib/python3.10/dist-packages/pandas/core/generic.py\u001b[0m in \u001b[0;36mto_csv\u001b[0;34m(self, path_or_buf, sep, na_rep, float_format, columns, header, index, index_label, mode, encoding, compression, quoting, quotechar, lineterminator, chunksize, date_format, doublequote, escapechar, decimal, errors, storage_options)\u001b[0m\n\u001b[1;32m   3965\u001b[0m         )\n\u001b[1;32m   3966\u001b[0m \u001b[0;34m\u001b[0m\u001b[0m\n\u001b[0;32m-> 3967\u001b[0;31m         return DataFrameRenderer(formatter).to_csv(\n\u001b[0m\u001b[1;32m   3968\u001b[0m             \u001b[0mpath_or_buf\u001b[0m\u001b[0;34m,\u001b[0m\u001b[0;34m\u001b[0m\u001b[0;34m\u001b[0m\u001b[0m\n\u001b[1;32m   3969\u001b[0m             \u001b[0mlineterminator\u001b[0m\u001b[0;34m=\u001b[0m\u001b[0mlineterminator\u001b[0m\u001b[0;34m,\u001b[0m\u001b[0;34m\u001b[0m\u001b[0;34m\u001b[0m\u001b[0m\n",
            "\u001b[0;32m/usr/local/lib/python3.10/dist-packages/pandas/io/formats/format.py\u001b[0m in \u001b[0;36mto_csv\u001b[0;34m(self, path_or_buf, encoding, sep, columns, index_label, mode, compression, quoting, quotechar, lineterminator, chunksize, date_format, doublequote, escapechar, errors, storage_options)\u001b[0m\n\u001b[1;32m   1012\u001b[0m             \u001b[0mformatter\u001b[0m\u001b[0;34m=\u001b[0m\u001b[0mself\u001b[0m\u001b[0;34m.\u001b[0m\u001b[0mfmt\u001b[0m\u001b[0;34m,\u001b[0m\u001b[0;34m\u001b[0m\u001b[0;34m\u001b[0m\u001b[0m\n\u001b[1;32m   1013\u001b[0m         )\n\u001b[0;32m-> 1014\u001b[0;31m         \u001b[0mcsv_formatter\u001b[0m\u001b[0;34m.\u001b[0m\u001b[0msave\u001b[0m\u001b[0;34m(\u001b[0m\u001b[0;34m)\u001b[0m\u001b[0;34m\u001b[0m\u001b[0;34m\u001b[0m\u001b[0m\n\u001b[0m\u001b[1;32m   1015\u001b[0m \u001b[0;34m\u001b[0m\u001b[0m\n\u001b[1;32m   1016\u001b[0m         \u001b[0;32mif\u001b[0m \u001b[0mcreated_buffer\u001b[0m\u001b[0;34m:\u001b[0m\u001b[0;34m\u001b[0m\u001b[0;34m\u001b[0m\u001b[0m\n",
            "\u001b[0;32m/usr/local/lib/python3.10/dist-packages/pandas/io/formats/csvs.py\u001b[0m in \u001b[0;36msave\u001b[0;34m(self)\u001b[0m\n\u001b[1;32m    268\u001b[0m             )\n\u001b[1;32m    269\u001b[0m \u001b[0;34m\u001b[0m\u001b[0m\n\u001b[0;32m--> 270\u001b[0;31m             \u001b[0mself\u001b[0m\u001b[0;34m.\u001b[0m\u001b[0m_save\u001b[0m\u001b[0;34m(\u001b[0m\u001b[0;34m)\u001b[0m\u001b[0;34m\u001b[0m\u001b[0;34m\u001b[0m\u001b[0m\n\u001b[0m\u001b[1;32m    271\u001b[0m \u001b[0;34m\u001b[0m\u001b[0m\n\u001b[1;32m    272\u001b[0m     \u001b[0;32mdef\u001b[0m \u001b[0m_save\u001b[0m\u001b[0;34m(\u001b[0m\u001b[0mself\u001b[0m\u001b[0;34m)\u001b[0m \u001b[0;34m->\u001b[0m \u001b[0;32mNone\u001b[0m\u001b[0;34m:\u001b[0m\u001b[0;34m\u001b[0m\u001b[0;34m\u001b[0m\u001b[0m\n",
            "\u001b[0;32m/usr/local/lib/python3.10/dist-packages/pandas/io/formats/csvs.py\u001b[0m in \u001b[0;36m_save\u001b[0;34m(self)\u001b[0m\n\u001b[1;32m    273\u001b[0m         \u001b[0;32mif\u001b[0m \u001b[0mself\u001b[0m\u001b[0;34m.\u001b[0m\u001b[0m_need_to_save_header\u001b[0m\u001b[0;34m:\u001b[0m\u001b[0;34m\u001b[0m\u001b[0;34m\u001b[0m\u001b[0m\n\u001b[1;32m    274\u001b[0m             \u001b[0mself\u001b[0m\u001b[0;34m.\u001b[0m\u001b[0m_save_header\u001b[0m\u001b[0;34m(\u001b[0m\u001b[0;34m)\u001b[0m\u001b[0;34m\u001b[0m\u001b[0;34m\u001b[0m\u001b[0m\n\u001b[0;32m--> 275\u001b[0;31m         \u001b[0mself\u001b[0m\u001b[0;34m.\u001b[0m\u001b[0m_save_body\u001b[0m\u001b[0;34m(\u001b[0m\u001b[0;34m)\u001b[0m\u001b[0;34m\u001b[0m\u001b[0;34m\u001b[0m\u001b[0m\n\u001b[0m\u001b[1;32m    276\u001b[0m \u001b[0;34m\u001b[0m\u001b[0m\n\u001b[1;32m    277\u001b[0m     \u001b[0;32mdef\u001b[0m \u001b[0m_save_header\u001b[0m\u001b[0;34m(\u001b[0m\u001b[0mself\u001b[0m\u001b[0;34m)\u001b[0m \u001b[0;34m->\u001b[0m \u001b[0;32mNone\u001b[0m\u001b[0;34m:\u001b[0m\u001b[0;34m\u001b[0m\u001b[0;34m\u001b[0m\u001b[0m\n",
            "\u001b[0;32m/usr/local/lib/python3.10/dist-packages/pandas/io/formats/csvs.py\u001b[0m in \u001b[0;36m_save_body\u001b[0;34m(self)\u001b[0m\n\u001b[1;32m    311\u001b[0m             \u001b[0;32mif\u001b[0m \u001b[0mstart_i\u001b[0m \u001b[0;34m>=\u001b[0m \u001b[0mend_i\u001b[0m\u001b[0;34m:\u001b[0m\u001b[0;34m\u001b[0m\u001b[0;34m\u001b[0m\u001b[0m\n\u001b[1;32m    312\u001b[0m                 \u001b[0;32mbreak\u001b[0m\u001b[0;34m\u001b[0m\u001b[0;34m\u001b[0m\u001b[0m\n\u001b[0;32m--> 313\u001b[0;31m             \u001b[0mself\u001b[0m\u001b[0;34m.\u001b[0m\u001b[0m_save_chunk\u001b[0m\u001b[0;34m(\u001b[0m\u001b[0mstart_i\u001b[0m\u001b[0;34m,\u001b[0m \u001b[0mend_i\u001b[0m\u001b[0;34m)\u001b[0m\u001b[0;34m\u001b[0m\u001b[0;34m\u001b[0m\u001b[0m\n\u001b[0m\u001b[1;32m    314\u001b[0m \u001b[0;34m\u001b[0m\u001b[0m\n\u001b[1;32m    315\u001b[0m     \u001b[0;32mdef\u001b[0m \u001b[0m_save_chunk\u001b[0m\u001b[0;34m(\u001b[0m\u001b[0mself\u001b[0m\u001b[0;34m,\u001b[0m \u001b[0mstart_i\u001b[0m\u001b[0;34m:\u001b[0m \u001b[0mint\u001b[0m\u001b[0;34m,\u001b[0m \u001b[0mend_i\u001b[0m\u001b[0;34m:\u001b[0m \u001b[0mint\u001b[0m\u001b[0;34m)\u001b[0m \u001b[0;34m->\u001b[0m \u001b[0;32mNone\u001b[0m\u001b[0;34m:\u001b[0m\u001b[0;34m\u001b[0m\u001b[0;34m\u001b[0m\u001b[0m\n",
            "\u001b[0;32m/usr/local/lib/python3.10/dist-packages/pandas/io/formats/csvs.py\u001b[0m in \u001b[0;36m_save_chunk\u001b[0;34m(self, start_i, end_i)\u001b[0m\n\u001b[1;32m    318\u001b[0m         \u001b[0mdf\u001b[0m \u001b[0;34m=\u001b[0m \u001b[0mself\u001b[0m\u001b[0;34m.\u001b[0m\u001b[0mobj\u001b[0m\u001b[0;34m.\u001b[0m\u001b[0miloc\u001b[0m\u001b[0;34m[\u001b[0m\u001b[0mslicer\u001b[0m\u001b[0;34m]\u001b[0m\u001b[0;34m\u001b[0m\u001b[0;34m\u001b[0m\u001b[0m\n\u001b[1;32m    319\u001b[0m \u001b[0;34m\u001b[0m\u001b[0m\n\u001b[0;32m--> 320\u001b[0;31m         \u001b[0mres\u001b[0m \u001b[0;34m=\u001b[0m \u001b[0mdf\u001b[0m\u001b[0;34m.\u001b[0m\u001b[0m_get_values_for_csv\u001b[0m\u001b[0;34m(\u001b[0m\u001b[0;34m**\u001b[0m\u001b[0mself\u001b[0m\u001b[0;34m.\u001b[0m\u001b[0m_number_format\u001b[0m\u001b[0;34m)\u001b[0m\u001b[0;34m\u001b[0m\u001b[0;34m\u001b[0m\u001b[0m\n\u001b[0m\u001b[1;32m    321\u001b[0m         \u001b[0mdata\u001b[0m \u001b[0;34m=\u001b[0m \u001b[0mlist\u001b[0m\u001b[0;34m(\u001b[0m\u001b[0mres\u001b[0m\u001b[0;34m.\u001b[0m\u001b[0m_iter_column_arrays\u001b[0m\u001b[0;34m(\u001b[0m\u001b[0;34m)\u001b[0m\u001b[0;34m)\u001b[0m\u001b[0;34m\u001b[0m\u001b[0;34m\u001b[0m\u001b[0m\n\u001b[1;32m    322\u001b[0m \u001b[0;34m\u001b[0m\u001b[0m\n",
            "\u001b[0;32m/usr/local/lib/python3.10/dist-packages/pandas/core/frame.py\u001b[0m in \u001b[0;36m_get_values_for_csv\u001b[0;34m(self, float_format, date_format, decimal, na_rep, quoting)\u001b[0m\n\u001b[1;32m   1408\u001b[0m     ) -> Self:\n\u001b[1;32m   1409\u001b[0m         \u001b[0;31m# helper used by to_csv\u001b[0m\u001b[0;34m\u001b[0m\u001b[0;34m\u001b[0m\u001b[0m\n\u001b[0;32m-> 1410\u001b[0;31m         mgr = self._mgr.get_values_for_csv(\n\u001b[0m\u001b[1;32m   1411\u001b[0m             \u001b[0mfloat_format\u001b[0m\u001b[0;34m=\u001b[0m\u001b[0mfloat_format\u001b[0m\u001b[0;34m,\u001b[0m\u001b[0;34m\u001b[0m\u001b[0;34m\u001b[0m\u001b[0m\n\u001b[1;32m   1412\u001b[0m             \u001b[0mdate_format\u001b[0m\u001b[0;34m=\u001b[0m\u001b[0mdate_format\u001b[0m\u001b[0;34m,\u001b[0m\u001b[0;34m\u001b[0m\u001b[0;34m\u001b[0m\u001b[0m\n",
            "\u001b[0;32m/usr/local/lib/python3.10/dist-packages/pandas/core/internals/managers.py\u001b[0m in \u001b[0;36mget_values_for_csv\u001b[0;34m(self, float_format, date_format, decimal, na_rep, quoting)\u001b[0m\n\u001b[1;32m    464\u001b[0m         \u001b[0;32min\u001b[0m \u001b[0mformatting\u001b[0m \u001b[0;34m(\u001b[0m\u001b[0mrepr\u001b[0m \u001b[0;34m/\u001b[0m \u001b[0mcsv\u001b[0m\u001b[0;34m)\u001b[0m\u001b[0;34m.\u001b[0m\u001b[0;34m\u001b[0m\u001b[0;34m\u001b[0m\u001b[0m\n\u001b[1;32m    465\u001b[0m         \"\"\"\n\u001b[0;32m--> 466\u001b[0;31m         return self.apply(\n\u001b[0m\u001b[1;32m    467\u001b[0m             \u001b[0;34m\"get_values_for_csv\"\u001b[0m\u001b[0;34m,\u001b[0m\u001b[0;34m\u001b[0m\u001b[0;34m\u001b[0m\u001b[0m\n\u001b[1;32m    468\u001b[0m             \u001b[0mna_rep\u001b[0m\u001b[0;34m=\u001b[0m\u001b[0mna_rep\u001b[0m\u001b[0;34m,\u001b[0m\u001b[0;34m\u001b[0m\u001b[0;34m\u001b[0m\u001b[0m\n",
            "\u001b[0;32m/usr/local/lib/python3.10/dist-packages/pandas/core/internals/managers.py\u001b[0m in \u001b[0;36mapply\u001b[0;34m(self, f, align_keys, **kwargs)\u001b[0m\n\u001b[1;32m    361\u001b[0m                 \u001b[0mapplied\u001b[0m \u001b[0;34m=\u001b[0m \u001b[0mb\u001b[0m\u001b[0;34m.\u001b[0m\u001b[0mapply\u001b[0m\u001b[0;34m(\u001b[0m\u001b[0mf\u001b[0m\u001b[0;34m,\u001b[0m \u001b[0;34m**\u001b[0m\u001b[0mkwargs\u001b[0m\u001b[0;34m)\u001b[0m\u001b[0;34m\u001b[0m\u001b[0;34m\u001b[0m\u001b[0m\n\u001b[1;32m    362\u001b[0m             \u001b[0;32melse\u001b[0m\u001b[0;34m:\u001b[0m\u001b[0;34m\u001b[0m\u001b[0;34m\u001b[0m\u001b[0m\n\u001b[0;32m--> 363\u001b[0;31m                 \u001b[0mapplied\u001b[0m \u001b[0;34m=\u001b[0m \u001b[0mgetattr\u001b[0m\u001b[0;34m(\u001b[0m\u001b[0mb\u001b[0m\u001b[0;34m,\u001b[0m \u001b[0mf\u001b[0m\u001b[0;34m)\u001b[0m\u001b[0;34m(\u001b[0m\u001b[0;34m**\u001b[0m\u001b[0mkwargs\u001b[0m\u001b[0;34m)\u001b[0m\u001b[0;34m\u001b[0m\u001b[0;34m\u001b[0m\u001b[0m\n\u001b[0m\u001b[1;32m    364\u001b[0m             \u001b[0mresult_blocks\u001b[0m \u001b[0;34m=\u001b[0m \u001b[0mextend_blocks\u001b[0m\u001b[0;34m(\u001b[0m\u001b[0mapplied\u001b[0m\u001b[0;34m,\u001b[0m \u001b[0mresult_blocks\u001b[0m\u001b[0;34m)\u001b[0m\u001b[0;34m\u001b[0m\u001b[0;34m\u001b[0m\u001b[0m\n\u001b[1;32m    365\u001b[0m \u001b[0;34m\u001b[0m\u001b[0m\n",
            "\u001b[0;32m/usr/local/lib/python3.10/dist-packages/pandas/core/internals/blocks.py\u001b[0m in \u001b[0;36mget_values_for_csv\u001b[0;34m(self, float_format, date_format, decimal, na_rep, quoting)\u001b[0m\n\u001b[1;32m    778\u001b[0m     ) -> Block:\n\u001b[1;32m    779\u001b[0m         \u001b[0;34m\"\"\"convert to our native types format\"\"\"\u001b[0m\u001b[0;34m\u001b[0m\u001b[0;34m\u001b[0m\u001b[0m\n\u001b[0;32m--> 780\u001b[0;31m         result = get_values_for_csv(\n\u001b[0m\u001b[1;32m    781\u001b[0m             \u001b[0mself\u001b[0m\u001b[0;34m.\u001b[0m\u001b[0mvalues\u001b[0m\u001b[0;34m,\u001b[0m\u001b[0;34m\u001b[0m\u001b[0;34m\u001b[0m\u001b[0m\n\u001b[1;32m    782\u001b[0m             \u001b[0mna_rep\u001b[0m\u001b[0;34m=\u001b[0m\u001b[0mna_rep\u001b[0m\u001b[0;34m,\u001b[0m\u001b[0;34m\u001b[0m\u001b[0;34m\u001b[0m\u001b[0m\n",
            "\u001b[0;32m/usr/local/lib/python3.10/dist-packages/pandas/core/indexes/base.py\u001b[0m in \u001b[0;36mget_values_for_csv\u001b[0;34m(values, date_format, na_rep, quoting, float_format, decimal)\u001b[0m\n\u001b[1;32m   7832\u001b[0m \u001b[0;34m\u001b[0m\u001b[0m\n\u001b[1;32m   7833\u001b[0m             \u001b[0;32mif\u001b[0m \u001b[0;32mnot\u001b[0m \u001b[0mquoting\u001b[0m\u001b[0;34m:\u001b[0m\u001b[0;34m\u001b[0m\u001b[0;34m\u001b[0m\u001b[0m\n\u001b[0;32m-> 7834\u001b[0;31m                 \u001b[0mvalues\u001b[0m \u001b[0;34m=\u001b[0m \u001b[0mvalues\u001b[0m\u001b[0;34m.\u001b[0m\u001b[0mastype\u001b[0m\u001b[0;34m(\u001b[0m\u001b[0mstr\u001b[0m\u001b[0;34m)\u001b[0m\u001b[0;34m\u001b[0m\u001b[0;34m\u001b[0m\u001b[0m\n\u001b[0m\u001b[1;32m   7835\u001b[0m             \u001b[0;32melse\u001b[0m\u001b[0;34m:\u001b[0m\u001b[0;34m\u001b[0m\u001b[0;34m\u001b[0m\u001b[0m\n\u001b[1;32m   7836\u001b[0m                 \u001b[0mvalues\u001b[0m \u001b[0;34m=\u001b[0m \u001b[0mnp\u001b[0m\u001b[0;34m.\u001b[0m\u001b[0marray\u001b[0m\u001b[0;34m(\u001b[0m\u001b[0mvalues\u001b[0m\u001b[0;34m,\u001b[0m \u001b[0mdtype\u001b[0m\u001b[0;34m=\u001b[0m\u001b[0;34m\"object\"\u001b[0m\u001b[0;34m)\u001b[0m\u001b[0;34m\u001b[0m\u001b[0;34m\u001b[0m\u001b[0m\n",
            "\u001b[0;31mKeyboardInterrupt\u001b[0m: "
          ]
        }
      ]
    },
    {
      "cell_type": "markdown",
      "source": [
        "#불러오기"
      ],
      "metadata": {
        "id": "VMlyD7xkVGKv"
      }
    },
    {
      "cell_type": "code",
      "source": [
        "team_data = pd.read_csv(file_path)\n",
        "player_data = pd.read_csv(file_path)"
      ],
      "metadata": {
        "colab": {
          "base_uri": "https://localhost:8080/"
        },
        "id": "b8aCInSGU-5m",
        "outputId": "c856b04c-3ac0-47ae-c687-c93e0bd1b4ac"
      },
      "execution_count": 85,
      "outputs": [
        {
          "output_type": "stream",
          "name": "stderr",
          "text": [
            "<ipython-input-85-c516c87204cf>:1: DtypeWarning: Columns (2) have mixed types. Specify dtype option on import or set low_memory=False.\n",
            "  team_data = pd.read_csv(file_path)\n",
            "<ipython-input-85-c516c87204cf>:2: DtypeWarning: Columns (2) have mixed types. Specify dtype option on import or set low_memory=False.\n",
            "  player_data = pd.read_csv(file_path)\n"
          ]
        }
      ]
    },
    {
      "cell_type": "code",
      "source": [
        "# 팀 데이터에서 'result' 열 이름 변경\n",
        "team_data.rename(columns={'result': 'team_result'}, inplace=True)\n",
        "\n",
        "# 선수 데이터와 팀 데이터를 병합\n",
        "final_data = pd.merge(player_data, team_data, on='gameid', how='inner')\n",
        "\n",
        "# 병합 결과 확인\n",
        "print(f\"Final 데이터 크기: {final_data.shape}\")\n",
        "print(final_data.head())\n"
      ],
      "metadata": {
        "colab": {
          "base_uri": "https://localhost:8080/"
        },
        "id": "UXjD9QXNVWT8",
        "outputId": "b2fc770e-46e9-45d1-dd33-9cca9c05e02d"
      },
      "execution_count": 86,
      "outputs": [
        {
          "output_type": "stream",
          "name": "stdout",
          "text": [
            "Final 데이터 크기: (1787904, 261)\n",
            "                  gameid datacompleteness_x url_x league_x  year_x split_x  \\\n",
            "0  ESPORTSTMNT01_2690210           complete   NaN     LCKC    2022  Spring   \n",
            "1  ESPORTSTMNT01_2690210           complete   NaN     LCKC    2022  Spring   \n",
            "2  ESPORTSTMNT01_2690210           complete   NaN     LCKC    2022  Spring   \n",
            "3  ESPORTSTMNT01_2690210           complete   NaN     LCKC    2022  Spring   \n",
            "4  ESPORTSTMNT01_2690210           complete   NaN     LCKC    2022  Spring   \n",
            "\n",
            "   playoffs_x               date_x  game_x  patch_x  ...  opp_csat15_y  \\\n",
            "0           0  2022-01-10 07:44:08       1    12.01  ...         121.0   \n",
            "1           0  2022-01-10 07:44:08       1    12.01  ...         100.0   \n",
            "2           0  2022-01-10 07:44:08       1    12.01  ...         119.0   \n",
            "3           0  2022-01-10 07:44:08       1    12.01  ...         149.0   \n",
            "4           0  2022-01-10 07:44:08       1    12.01  ...          21.0   \n",
            "\n",
            "  golddiffat15_y xpdiffat15_y csdiffat15_y killsat15_y assistsat15_y  \\\n",
            "0          391.0        345.0         14.0         0.0           1.0   \n",
            "1          541.0       -275.0        -11.0         2.0           3.0   \n",
            "2         -475.0        153.0          1.0         0.0           3.0   \n",
            "3         -793.0      -1343.0        -34.0         2.0           1.0   \n",
            "4          443.0       -497.0          7.0         1.0           2.0   \n",
            "\n",
            "  deathsat15_y opp_killsat15_y opp_assistsat15_y opp_deathsat15_y  \n",
            "0          0.0             0.0               1.0              0.0  \n",
            "1          2.0             0.0               5.0              1.0  \n",
            "2          0.0             3.0               3.0              2.0  \n",
            "3          2.0             3.0               3.0              0.0  \n",
            "4          2.0             0.0               6.0              2.0  \n",
            "\n",
            "[5 rows x 261 columns]\n"
          ]
        }
      ]
    },
    {
      "cell_type": "code",
      "source": [
        "final_data.fillna(0, inplace=True)"
      ],
      "metadata": {
        "id": "LwprqrZADO6u"
      },
      "execution_count": 88,
      "outputs": []
    },
    {
      "cell_type": "code",
      "source": [
        "final_data.to_csv(f'{DATA_PATH}최종데이터.csv',index=False)"
      ],
      "metadata": {
        "id": "dNqFaJU2DW79"
      },
      "execution_count": 89,
      "outputs": []
    },
    {
      "cell_type": "code",
      "source": [
        "final_data = pd.read_csv(file_path)"
      ],
      "metadata": {
        "colab": {
          "base_uri": "https://localhost:8080/"
        },
        "id": "pVWy5IMpyViM",
        "outputId": "71f0f24c-6f21-4321-b893-71b41051c24b"
      },
      "execution_count": 90,
      "outputs": [
        {
          "output_type": "stream",
          "name": "stderr",
          "text": [
            "<ipython-input-90-67cbf16e5f57>:1: DtypeWarning: Columns (2) have mixed types. Specify dtype option on import or set low_memory=False.\n",
            "  final_data = pd.read_csv(file_path)\n"
          ]
        }
      ]
    },
    {
      "cell_type": "code",
      "source": [
        "final_data.shape"
      ],
      "metadata": {
        "colab": {
          "base_uri": "https://localhost:8080/"
        },
        "id": "uPIxCDTGyy1Z",
        "outputId": "34581989-f741-4a09-9db1-431ded44d221"
      },
      "execution_count": 91,
      "outputs": [
        {
          "output_type": "execute_result",
          "data": {
            "text/plain": [
              "(148992, 131)"
            ]
          },
          "metadata": {},
          "execution_count": 91
        }
      ]
    },
    {
      "cell_type": "code",
      "source": [
        "from sklearn.model_selection import train_test_split\n",
        "\n",
        "#train / test 데이터 분리\n",
        "train_data, test_data = train_test_split(final_data, test_size=0.2, random_state=42)\n",
        "\n",
        "train_data.shape, test_data.shape\n"
      ],
      "metadata": {
        "colab": {
          "base_uri": "https://localhost:8080/"
        },
        "id": "aJyqX_fXFBg-",
        "outputId": "700b6c4f-4977-496d-b9c3-755b1ada8af1"
      },
      "execution_count": 92,
      "outputs": [
        {
          "output_type": "execute_result",
          "data": {
            "text/plain": [
              "((119193, 131), (29799, 131))"
            ]
          },
          "metadata": {},
          "execution_count": 92
        }
      ]
    },
    {
      "cell_type": "code",
      "source": [
        "train = train_data.drop(columns=['result'])\n",
        "train_target = train_data['result']\n",
        "\n",
        "test = test_data.drop(columns=['result'])\n",
        "test_target = test_data['result']\n",
        "\n",
        "print(train.shape,train_target.shape,test.shape,test_target.shape)"
      ],
      "metadata": {
        "colab": {
          "base_uri": "https://localhost:8080/"
        },
        "id": "N_eD_xytGdWA",
        "outputId": "7c51827f-f8e9-46d0-aac9-e84259030052"
      },
      "execution_count": 93,
      "outputs": [
        {
          "output_type": "stream",
          "name": "stdout",
          "text": [
            "(119193, 130) (119193,) (29799, 130) (29799,)\n"
          ]
        }
      ]
    },
    {
      "cell_type": "code",
      "source": [
        "train.to_csv(f'{DATA_PATH}train_features.csv', index=False)\n",
        "train_target.to_csv(f'{DATA_PATH}train_target.csv', index=False)\n",
        "\n",
        "test.to_csv(f'{DATA_PATH}test_features.csv', index=False)\n",
        "test_target.to_csv(f'{DATA_PATH}test_target.csv', index=False)\n"
      ],
      "metadata": {
        "id": "tXAXzbgOYH0p"
      },
      "execution_count": 94,
      "outputs": []
    },
    {
      "cell_type": "code",
      "source": [
        "cols = train.select_dtypes(\"object\").columns.tolist()"
      ],
      "metadata": {
        "id": "HeYmBgfjaN1c"
      },
      "execution_count": 95,
      "outputs": []
    },
    {
      "cell_type": "code",
      "source": [
        "%pip install category_encoders"
      ],
      "metadata": {
        "colab": {
          "base_uri": "https://localhost:8080/"
        },
        "id": "Du6rlDyCacF-",
        "outputId": "49f22d70-678b-42d3-e778-68eefd5877e8"
      },
      "execution_count": 96,
      "outputs": [
        {
          "output_type": "stream",
          "name": "stdout",
          "text": [
            "Requirement already satisfied: category_encoders in /usr/local/lib/python3.10/dist-packages (2.6.4)\n",
            "Requirement already satisfied: numpy>=1.14.0 in /usr/local/lib/python3.10/dist-packages (from category_encoders) (1.26.4)\n",
            "Requirement already satisfied: scikit-learn>=0.20.0 in /usr/local/lib/python3.10/dist-packages (from category_encoders) (1.6.0)\n",
            "Requirement already satisfied: scipy>=1.0.0 in /usr/local/lib/python3.10/dist-packages (from category_encoders) (1.13.1)\n",
            "Requirement already satisfied: statsmodels>=0.9.0 in /usr/local/lib/python3.10/dist-packages (from category_encoders) (0.14.4)\n",
            "Requirement already satisfied: pandas>=1.0.5 in /usr/local/lib/python3.10/dist-packages (from category_encoders) (2.2.2)\n",
            "Requirement already satisfied: patsy>=0.5.1 in /usr/local/lib/python3.10/dist-packages (from category_encoders) (1.0.1)\n",
            "Requirement already satisfied: python-dateutil>=2.8.2 in /usr/local/lib/python3.10/dist-packages (from pandas>=1.0.5->category_encoders) (2.8.2)\n",
            "Requirement already satisfied: pytz>=2020.1 in /usr/local/lib/python3.10/dist-packages (from pandas>=1.0.5->category_encoders) (2024.2)\n",
            "Requirement already satisfied: tzdata>=2022.7 in /usr/local/lib/python3.10/dist-packages (from pandas>=1.0.5->category_encoders) (2024.2)\n",
            "Requirement already satisfied: joblib>=1.2.0 in /usr/local/lib/python3.10/dist-packages (from scikit-learn>=0.20.0->category_encoders) (1.4.2)\n",
            "Requirement already satisfied: threadpoolctl>=3.1.0 in /usr/local/lib/python3.10/dist-packages (from scikit-learn>=0.20.0->category_encoders) (3.5.0)\n",
            "Requirement already satisfied: packaging>=21.3 in /usr/local/lib/python3.10/dist-packages (from statsmodels>=0.9.0->category_encoders) (24.2)\n",
            "Requirement already satisfied: six>=1.5 in /usr/local/lib/python3.10/dist-packages (from python-dateutil>=2.8.2->pandas>=1.0.5->category_encoders) (1.17.0)\n"
          ]
        }
      ]
    },
    {
      "cell_type": "code",
      "source": [
        "SEED =42"
      ],
      "metadata": {
        "id": "BznKdQAFbskw"
      },
      "execution_count": 97,
      "outputs": []
    },
    {
      "cell_type": "code",
      "source": [
        "from sklearn.preprocessing import LabelEncoder\n",
        "\n",
        "# 숫자형 데이터와 범주형 데이터를 분리\n",
        "X_train = train.copy()\n",
        "\n",
        "# 범주형 열 선택\n",
        "categorical_cols = X_train.select_dtypes(include=['object']).columns\n",
        "\n",
        "# Label Encoding (범주형 데이터를 숫자로 변환)\n",
        "label_encoder = LabelEncoder()\n",
        "for col in categorical_cols:\n",
        "    X_train[col] = label_encoder.fit_transform(X_train[col].astype(str))\n",
        "\n",
        "# 타겟 데이터는 이미 숫자형이어야 함\n",
        "y_train = train_target\n",
        "\n",
        "# 2. LGBMClassifier 모델 초기화\n",
        "lgbm_model = LGBMClassifier(random_state=42)\n",
        "\n",
        "# 3. 교차 검증 (5-Fold Cross Validation)\n",
        "from sklearn.model_selection import cross_val_score\n",
        "cv_scores = cross_val_score(lgbm_model, X_train, y_train, cv=5, scoring='accuracy')\n",
        "\n",
        "# 4. 결과 확인\n",
        "import numpy as np\n",
        "print(f\"교차 검증 점수 (Fold 별): {cv_scores}\")\n",
        "print(f\"평균 CV 점수: {np.mean(cv_scores):.4f}\")\n",
        "print(f\"표준 편차 CV 점수: {np.std(cv_scores):.4f}\")\n"
      ],
      "metadata": {
        "colab": {
          "base_uri": "https://localhost:8080/"
        },
        "id": "txzdp0ltcaOc",
        "outputId": "33d3c179-cd78-45bd-b4c8-3b7a608e233a"
      },
      "execution_count": 79,
      "outputs": [
        {
          "output_type": "stream",
          "name": "stderr",
          "text": [
            "/usr/local/lib/python3.10/dist-packages/sklearn/utils/_tags.py:354: FutureWarning: The LGBMClassifier or classes from which it inherits use `_get_tags` and `_more_tags`. Please define the `__sklearn_tags__` method, or inherit from `sklearn.base.BaseEstimator` and/or other appropriate mixins such as `sklearn.base.TransformerMixin`, `sklearn.base.ClassifierMixin`, `sklearn.base.RegressorMixin`, and `sklearn.base.OutlierMixin`. From scikit-learn 1.7, not defining `__sklearn_tags__` will raise an error.\n",
            "  warnings.warn(\n",
            "/usr/local/lib/python3.10/dist-packages/sklearn/utils/_tags.py:354: FutureWarning: The LGBMClassifier or classes from which it inherits use `_get_tags` and `_more_tags`. Please define the `__sklearn_tags__` method, or inherit from `sklearn.base.BaseEstimator` and/or other appropriate mixins such as `sklearn.base.TransformerMixin`, `sklearn.base.ClassifierMixin`, `sklearn.base.RegressorMixin`, and `sklearn.base.OutlierMixin`. From scikit-learn 1.7, not defining `__sklearn_tags__` will raise an error.\n",
            "  warnings.warn(\n"
          ]
        },
        {
          "output_type": "stream",
          "name": "stdout",
          "text": [
            "[LightGBM] [Warning] Found whitespace in feature_names, replace with underlines\n",
            "[LightGBM] [Info] Number of positive: 47644, number of negative: 47710\n",
            "[LightGBM] [Info] Auto-choosing col-wise multi-threading, the overhead of testing was 0.563125 seconds.\n",
            "You can set `force_col_wise=true` to remove the overhead.\n",
            "[LightGBM] [Info] Total Bins 15281\n",
            "[LightGBM] [Info] Number of data points in the train set: 95354, number of used features: 128\n",
            "[LightGBM] [Info] [binary:BoostFromScore]: pavg=0.499654 -> initscore=-0.001384\n",
            "[LightGBM] [Info] Start training from score -0.001384\n"
          ]
        },
        {
          "output_type": "stream",
          "name": "stderr",
          "text": [
            "/usr/local/lib/python3.10/dist-packages/sklearn/utils/_tags.py:354: FutureWarning: The LGBMClassifier or classes from which it inherits use `_get_tags` and `_more_tags`. Please define the `__sklearn_tags__` method, or inherit from `sklearn.base.BaseEstimator` and/or other appropriate mixins such as `sklearn.base.TransformerMixin`, `sklearn.base.ClassifierMixin`, `sklearn.base.RegressorMixin`, and `sklearn.base.OutlierMixin`. From scikit-learn 1.7, not defining `__sklearn_tags__` will raise an error.\n",
            "  warnings.warn(\n",
            "/usr/local/lib/python3.10/dist-packages/sklearn/utils/_tags.py:354: FutureWarning: The LGBMClassifier or classes from which it inherits use `_get_tags` and `_more_tags`. Please define the `__sklearn_tags__` method, or inherit from `sklearn.base.BaseEstimator` and/or other appropriate mixins such as `sklearn.base.TransformerMixin`, `sklearn.base.ClassifierMixin`, `sklearn.base.RegressorMixin`, and `sklearn.base.OutlierMixin`. From scikit-learn 1.7, not defining `__sklearn_tags__` will raise an error.\n",
            "  warnings.warn(\n"
          ]
        },
        {
          "output_type": "stream",
          "name": "stdout",
          "text": [
            "[LightGBM] [Warning] Found whitespace in feature_names, replace with underlines\n",
            "[LightGBM] [Info] Number of positive: 47645, number of negative: 47709\n",
            "[LightGBM] [Info] Auto-choosing row-wise multi-threading, the overhead of testing was 0.112769 seconds.\n",
            "You can set `force_row_wise=true` to remove the overhead.\n",
            "And if memory is not enough, you can set `force_col_wise=true`.\n",
            "[LightGBM] [Info] Total Bins 15294\n",
            "[LightGBM] [Info] Number of data points in the train set: 95354, number of used features: 128\n",
            "[LightGBM] [Info] [binary:BoostFromScore]: pavg=0.499664 -> initscore=-0.001342\n",
            "[LightGBM] [Info] Start training from score -0.001342\n"
          ]
        },
        {
          "output_type": "stream",
          "name": "stderr",
          "text": [
            "/usr/local/lib/python3.10/dist-packages/sklearn/utils/_tags.py:354: FutureWarning: The LGBMClassifier or classes from which it inherits use `_get_tags` and `_more_tags`. Please define the `__sklearn_tags__` method, or inherit from `sklearn.base.BaseEstimator` and/or other appropriate mixins such as `sklearn.base.TransformerMixin`, `sklearn.base.ClassifierMixin`, `sklearn.base.RegressorMixin`, and `sklearn.base.OutlierMixin`. From scikit-learn 1.7, not defining `__sklearn_tags__` will raise an error.\n",
            "  warnings.warn(\n",
            "/usr/local/lib/python3.10/dist-packages/sklearn/utils/_tags.py:354: FutureWarning: The LGBMClassifier or classes from which it inherits use `_get_tags` and `_more_tags`. Please define the `__sklearn_tags__` method, or inherit from `sklearn.base.BaseEstimator` and/or other appropriate mixins such as `sklearn.base.TransformerMixin`, `sklearn.base.ClassifierMixin`, `sklearn.base.RegressorMixin`, and `sklearn.base.OutlierMixin`. From scikit-learn 1.7, not defining `__sklearn_tags__` will raise an error.\n",
            "  warnings.warn(\n"
          ]
        },
        {
          "output_type": "stream",
          "name": "stdout",
          "text": [
            "[LightGBM] [Warning] Found whitespace in feature_names, replace with underlines\n",
            "[LightGBM] [Info] Number of positive: 47645, number of negative: 47709\n",
            "[LightGBM] [Info] Auto-choosing row-wise multi-threading, the overhead of testing was 0.072556 seconds.\n",
            "You can set `force_row_wise=true` to remove the overhead.\n",
            "And if memory is not enough, you can set `force_col_wise=true`.\n",
            "[LightGBM] [Info] Total Bins 15304\n",
            "[LightGBM] [Info] Number of data points in the train set: 95354, number of used features: 128\n",
            "[LightGBM] [Info] [binary:BoostFromScore]: pavg=0.499664 -> initscore=-0.001342\n",
            "[LightGBM] [Info] Start training from score -0.001342\n"
          ]
        },
        {
          "output_type": "stream",
          "name": "stderr",
          "text": [
            "/usr/local/lib/python3.10/dist-packages/sklearn/utils/_tags.py:354: FutureWarning: The LGBMClassifier or classes from which it inherits use `_get_tags` and `_more_tags`. Please define the `__sklearn_tags__` method, or inherit from `sklearn.base.BaseEstimator` and/or other appropriate mixins such as `sklearn.base.TransformerMixin`, `sklearn.base.ClassifierMixin`, `sklearn.base.RegressorMixin`, and `sklearn.base.OutlierMixin`. From scikit-learn 1.7, not defining `__sklearn_tags__` will raise an error.\n",
            "  warnings.warn(\n",
            "/usr/local/lib/python3.10/dist-packages/sklearn/utils/_tags.py:354: FutureWarning: The LGBMClassifier or classes from which it inherits use `_get_tags` and `_more_tags`. Please define the `__sklearn_tags__` method, or inherit from `sklearn.base.BaseEstimator` and/or other appropriate mixins such as `sklearn.base.TransformerMixin`, `sklearn.base.ClassifierMixin`, `sklearn.base.RegressorMixin`, and `sklearn.base.OutlierMixin`. From scikit-learn 1.7, not defining `__sklearn_tags__` will raise an error.\n",
            "  warnings.warn(\n"
          ]
        },
        {
          "output_type": "stream",
          "name": "stdout",
          "text": [
            "[LightGBM] [Warning] Found whitespace in feature_names, replace with underlines\n",
            "[LightGBM] [Info] Number of positive: 47645, number of negative: 47710\n",
            "[LightGBM] [Info] Auto-choosing row-wise multi-threading, the overhead of testing was 0.073078 seconds.\n",
            "You can set `force_row_wise=true` to remove the overhead.\n",
            "And if memory is not enough, you can set `force_col_wise=true`.\n",
            "[LightGBM] [Info] Total Bins 15282\n",
            "[LightGBM] [Info] Number of data points in the train set: 95355, number of used features: 128\n",
            "[LightGBM] [Info] [binary:BoostFromScore]: pavg=0.499659 -> initscore=-0.001363\n",
            "[LightGBM] [Info] Start training from score -0.001363\n"
          ]
        },
        {
          "output_type": "stream",
          "name": "stderr",
          "text": [
            "/usr/local/lib/python3.10/dist-packages/sklearn/utils/_tags.py:354: FutureWarning: The LGBMClassifier or classes from which it inherits use `_get_tags` and `_more_tags`. Please define the `__sklearn_tags__` method, or inherit from `sklearn.base.BaseEstimator` and/or other appropriate mixins such as `sklearn.base.TransformerMixin`, `sklearn.base.ClassifierMixin`, `sklearn.base.RegressorMixin`, and `sklearn.base.OutlierMixin`. From scikit-learn 1.7, not defining `__sklearn_tags__` will raise an error.\n",
            "  warnings.warn(\n",
            "/usr/local/lib/python3.10/dist-packages/sklearn/utils/_tags.py:354: FutureWarning: The LGBMClassifier or classes from which it inherits use `_get_tags` and `_more_tags`. Please define the `__sklearn_tags__` method, or inherit from `sklearn.base.BaseEstimator` and/or other appropriate mixins such as `sklearn.base.TransformerMixin`, `sklearn.base.ClassifierMixin`, `sklearn.base.RegressorMixin`, and `sklearn.base.OutlierMixin`. From scikit-learn 1.7, not defining `__sklearn_tags__` will raise an error.\n",
            "  warnings.warn(\n"
          ]
        },
        {
          "output_type": "stream",
          "name": "stdout",
          "text": [
            "[LightGBM] [Warning] Found whitespace in feature_names, replace with underlines\n",
            "[LightGBM] [Info] Number of positive: 47645, number of negative: 47710\n",
            "[LightGBM] [Info] Auto-choosing row-wise multi-threading, the overhead of testing was 0.074171 seconds.\n",
            "You can set `force_row_wise=true` to remove the overhead.\n",
            "And if memory is not enough, you can set `force_col_wise=true`.\n",
            "[LightGBM] [Info] Total Bins 15285\n",
            "[LightGBM] [Info] Number of data points in the train set: 95355, number of used features: 128\n",
            "[LightGBM] [Info] [binary:BoostFromScore]: pavg=0.499659 -> initscore=-0.001363\n",
            "[LightGBM] [Info] Start training from score -0.001363\n"
          ]
        },
        {
          "output_type": "stream",
          "name": "stderr",
          "text": [
            "/usr/local/lib/python3.10/dist-packages/sklearn/utils/_tags.py:354: FutureWarning: The LGBMClassifier or classes from which it inherits use `_get_tags` and `_more_tags`. Please define the `__sklearn_tags__` method, or inherit from `sklearn.base.BaseEstimator` and/or other appropriate mixins such as `sklearn.base.TransformerMixin`, `sklearn.base.ClassifierMixin`, `sklearn.base.RegressorMixin`, and `sklearn.base.OutlierMixin`. From scikit-learn 1.7, not defining `__sklearn_tags__` will raise an error.\n",
            "  warnings.warn(\n"
          ]
        },
        {
          "output_type": "stream",
          "name": "stdout",
          "text": [
            "교차 검증 점수 (Fold 별): [0.97898402 0.97793532 0.97755778 0.97818609 0.97734709]\n",
            "평균 CV 점수: 0.9780\n",
            "표준 편차 CV 점수: 0.0006\n"
          ]
        }
      ]
    },
    {
      "cell_type": "code",
      "source": [
        "cv_scores = cross_val_score(model, X_train, y_train, cv=5, scoring='accuracy')\n",
        "\n",
        "print(f\"교차 검증 점수 (Fold 별): {cv_scores}\")\n",
        "print(f\"평균 CV 점수: {np.mean(cv_scores):.4f}\")\n"
      ],
      "metadata": {
        "id": "WOwYf86VYCX3"
      },
      "execution_count": null,
      "outputs": []
    }
  ]
}